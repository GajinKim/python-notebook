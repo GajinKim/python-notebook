{
 "cells": [
  {
   "cell_type": "code",
   "execution_count": 12,
   "metadata": {},
   "outputs": [
    {
     "name": "stdout",
     "output_type": "stream",
     "text": [
      "page 1/page 2/page 3\n"
     ]
    }
   ],
   "source": [
    "page_one = {\n",
    "    \"id\": 1,\n",
    "    \"parent_id\": None,\n",
    "    \"title\": \"page 1\",\n",
    "}\n",
    "\n",
    "page_two = {\n",
    "    \"id\": 2,\n",
    "    \"parent_id\": 1,\n",
    "    \"title\": \"page 2\",\n",
    "}\n",
    "\n",
    "page_three = {\n",
    "    \"id\": 3,\n",
    "    \"parent_id\": 2,\n",
    "    \"title\": \"page 3\",\n",
    "}\n",
    "\n",
    "all_pages = [page_one, page_two, page_three]\n",
    "\n",
    "def generate_page_breadcrumbs(current_page: dict, all_pages: list):\n",
    "    breadcrumbs = current_page[\"title\"]\n",
    "    current_breadcrumb_page = current_page\n",
    "    while current_breadcrumb_page and current_breadcrumb_page[\"parent_id\"]:\n",
    "        parent_page = find_parent_page(current_breadcrumb_page, all_pages)\n",
    "        if parent_page:\n",
    "            breadcrumbs = f\"\"\"{parent_page[\"title\"]}/{breadcrumbs}\"\"\"\n",
    "            current_breadcrumb_page = parent_page\n",
    "    return breadcrumbs\n",
    "\n",
    "def find_parent_page(current_breadcrumb_page: dict, all_pages: list):\n",
    "    for potential_parent_page in all_pages:\n",
    "        if potential_parent_page[\"id\"] == current_breadcrumb_page[\"parent_id\"]:\n",
    "            return potential_parent_page\n",
    "\n",
    "page_three_breadcrums = generate_page_breadcrumbs(page_three, all_pages)\n",
    "print(page_three_breadcrums)"
   ]
  }
 ],
 "metadata": {
  "kernelspec": {
   "display_name": "Python 3",
   "language": "python",
   "name": "python3"
  },
  "language_info": {
   "codemirror_mode": {
    "name": "ipython",
    "version": 3
   },
   "file_extension": ".py",
   "mimetype": "text/x-python",
   "name": "python",
   "nbconvert_exporter": "python",
   "pygments_lexer": "ipython3",
   "version": "3.11.9"
  }
 },
 "nbformat": 4,
 "nbformat_minor": 2
}
