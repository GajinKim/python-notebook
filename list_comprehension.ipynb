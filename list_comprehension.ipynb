{
 "cells": [
  {
   "cell_type": "markdown",
   "metadata": {},
   "source": [
    "# List Comprehension\n",
    "\n",
    "List comprehension is a concise way to create lists by applying an expression to each item in an iterable, optionally filtering with a condition, all within a single line of code."
   ]
  },
  {
   "cell_type": "code",
   "execution_count": 1,
   "metadata": {},
   "outputs": [
    {
     "name": "stdout",
     "output_type": "stream",
     "text": [
      "[16, 25]\n"
     ]
    }
   ],
   "source": [
    "other_list = [1,2,3,4,5]\n",
    "\n",
    "my_list = [\n",
    "    element**2\n",
    "    for element\n",
    "    in other_list\n",
    "    if element > 3\n",
    "]\n",
    "\n",
    "print(my_list)"
   ]
  },
  {
   "cell_type": "markdown",
   "metadata": {},
   "source": [
    "JavaScript uses `.filter()` and `.map()` to achieve list comprehension.\n",
    "\n",
    "The Javascript equivalent the code above:\n",
    "```javascript\n",
    "const otherList = [1,2,3,4,5];\n",
    "\n",
    "const myList = otherList.filter((element) => element > 3).map((element) => element**2);\n",
    "\n",
    "console.log(myList);\n",
    "```"
   ]
  }
 ],
 "metadata": {
  "kernelspec": {
   "display_name": "Python 3",
   "language": "python",
   "name": "python3"
  },
  "language_info": {
   "codemirror_mode": {
    "name": "ipython",
    "version": 3
   },
   "file_extension": ".py",
   "mimetype": "text/x-python",
   "name": "python",
   "nbconvert_exporter": "python",
   "pygments_lexer": "ipython3",
   "version": "3.11.9"
  }
 },
 "nbformat": 4,
 "nbformat_minor": 2
}
